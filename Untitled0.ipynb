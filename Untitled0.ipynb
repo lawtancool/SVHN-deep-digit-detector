{
  "nbformat": 4,
  "nbformat_minor": 0,
  "metadata": {
    "colab": {
      "name": "Untitled0.ipynb",
      "provenance": [],
      "toc_visible": true,
      "include_colab_link": true
    },
    "kernelspec": {
      "name": "python3",
      "display_name": "Python 3"
    }
  },
  "cells": [
    {
      "cell_type": "markdown",
      "metadata": {
        "id": "view-in-github",
        "colab_type": "text"
      },
      "source": [
        "<a href=\"https://colab.research.google.com/github/lawtancool/SVHN-deep-digit-detector/blob/master/Untitled0.ipynb\" target=\"_parent\"><img src=\"https://colab.research.google.com/assets/colab-badge.svg\" alt=\"Open In Colab\"/></a>"
      ]
    },
    {
      "cell_type": "markdown",
      "metadata": {
        "id": "9xtgoNnGtGOI",
        "colab_type": "text"
      },
      "source": [
        "# Get files from git + download dataset\n",
        "\n"
      ]
    },
    {
      "cell_type": "code",
      "metadata": {
        "id": "9iur_6G5rCDI",
        "colab_type": "code",
        "colab": {}
      },
      "source": [
        "!git clone https://github.com/lawtancool/SVHN-deep-digit-detector.git"
      ],
      "execution_count": 0,
      "outputs": []
    },
    {
      "cell_type": "code",
      "metadata": {
        "id": "O4_k54pJuERx",
        "colab_type": "code",
        "colab": {}
      },
      "source": [
        "!cd SVHN-deep-digit-detector && mkdir datasets && cd datasets && mkdir svhn && cd svhn && wget http://ufldl.stanford.edu/housenumbers/train.tar.gz && tar -xzf train.tar.gz"
      ],
      "execution_count": 0,
      "outputs": []
    }
  ]
}