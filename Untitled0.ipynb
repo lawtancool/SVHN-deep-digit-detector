{
  "nbformat": 4,
  "nbformat_minor": 0,
  "metadata": {
    "colab": {
      "name": "Untitled0.ipynb",
      "provenance": [],
      "include_colab_link": true
    },
    "kernelspec": {
      "name": "python3",
      "display_name": "Python 3"
    }
  },
  "cells": [
    {
      "cell_type": "markdown",
      "metadata": {
        "id": "view-in-github",
        "colab_type": "text"
      },
      "source": [
        "<a href=\"https://colab.research.google.com/github/lawtancool/SVHN-deep-digit-detector/blob/master/Untitled0.ipynb\" target=\"_parent\"><img src=\"https://colab.research.google.com/assets/colab-badge.svg\" alt=\"Open In Colab\"/></a>"
      ]
    },
    {
      "cell_type": "markdown",
      "metadata": {
        "id": "9xtgoNnGtGOI",
        "colab_type": "text"
      },
      "source": [
        "# Get files from git\n",
        "\n"
      ]
    },
    {
      "cell_type": "code",
      "metadata": {
        "id": "9iur_6G5rCDI",
        "colab_type": "code",
        "colab": {
          "base_uri": "https://localhost:8080/",
          "height": 136
        },
        "outputId": "c9f386c1-bdd2-4f34-f3b4-05f5355f6eca"
      },
      "source": [
        "!git clone https://github.com/lawtancool/SVHN-deep-digit-detector.git"
      ],
      "execution_count": 1,
      "outputs": [
        {
          "output_type": "stream",
          "text": [
            "Cloning into 'SVHN-deep-digit-detector'...\n",
            "remote: Enumerating objects: 3, done.\u001b[K\n",
            "remote: Counting objects: 100% (3/3), done.\u001b[K\n",
            "remote: Compressing objects: 100% (3/3), done.\u001b[K\n",
            "remote: Total 2712 (delta 0), reused 0 (delta 0), pack-reused 2709\u001b[K\n",
            "Receiving objects: 100% (2712/2712), 169.43 MiB | 32.49 MiB/s, done.\n",
            "Resolving deltas: 100% (1560/1560), done.\n"
          ],
          "name": "stdout"
        }
      ]
    }
  ]
}